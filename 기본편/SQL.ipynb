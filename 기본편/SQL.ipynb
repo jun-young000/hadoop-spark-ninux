{
 "cells": [
  {
   "cell_type": "code",
   "execution_count": null,
   "id": "ee7139d7",
   "metadata": {},
   "outputs": [],
   "source": [
    "# 하둡으로 저장된 파일 불러오기\n",
    "f2011 = spark.read.format(\"csv\").load(\"/user/ubuntu/homework/flights/csv/2011-summary.csv\")   #옵션을 안걸었음\n",
    "f2011 = spark.read.option(\"header\", \"true\").csv(\"homework/flights/csv/2011-summary.csv\") "
   ]
  },
  {
   "cell_type": "code",
   "execution_count": null,
   "id": "8f28cbbc",
   "metadata": {},
   "outputs": [],
   "source": [
    "# 하둡으로 불어온 f2011로 테이블 만들기\n",
    "f2011.createOrReplaceTempView(\"flights2011\")"
   ]
  },
  {
   "cell_type": "code",
   "execution_count": null,
   "id": "e3347280",
   "metadata": {},
   "outputs": [],
   "source": []
  },
  {
   "cell_type": "code",
   "execution_count": null,
   "id": "fa5c1e62",
   "metadata": {},
   "outputs": [],
   "source": [
    "\n",
    "# dataframe 에서 불러오기\n",
    "f2011.groupBy(\"DEST_COUNTRY_NAME\").count().show()"
   ]
  },
  {
   "cell_type": "code",
   "execution_count": null,
   "id": "6b065e02",
   "metadata": {},
   "outputs": [],
   "source": [
    "#테이블에서 불러오기\n",
    "spark.sql(\"SELECT DEST_COUNTRY_NAME, COUNT(1) FROM flights2011 GROUP BY DEST_COUNTRY_NAME\").show()"
   ]
  },
  {
   "cell_type": "code",
   "execution_count": null,
   "id": "1ae189c2",
   "metadata": {},
   "outputs": [],
   "source": []
  },
  {
   "cell_type": "code",
   "execution_count": null,
   "id": "656222e2",
   "metadata": {},
   "outputs": [],
   "source": [
    "#테이블에서 불러오기\n",
    "spark.sql(\"SELECT MAX(count) FROM flights2011\").show()"
   ]
  },
  {
   "cell_type": "code",
   "execution_count": null,
   "id": "dc37b9c5",
   "metadata": {},
   "outputs": [],
   "source": [
    "# dataframe 에서 불러오기\n",
    "from pyspark.sql.functions import max\n",
    "f2011.select(max(\"count\")).show()"
   ]
  },
  {
   "cell_type": "code",
   "execution_count": null,
   "id": "ce3b90e7",
   "metadata": {},
   "outputs": [],
   "source": []
  },
  {
   "cell_type": "code",
   "execution_count": null,
   "id": "4e752bd5",
   "metadata": {},
   "outputs": [],
   "source": [
    "#테이블에서 불러오기\n",
    "spark.sql(\"SELECT  DEST_COUNTRY_NAME, ORIGIN_COUNTRY_NAME FROM flightS2011  LIMIT 5\" ).show()"
   ]
  },
  {
   "cell_type": "code",
   "execution_count": null,
   "id": "7d637323",
   "metadata": {},
   "outputs": [],
   "source": [
    "# dataframe 에서 불러오기\n",
    "f2011.select(\"DEST_COUNTRY_NAME\", \"ORIGIN_COUNTRY_NAME\").show(5)"
   ]
  },
  {
   "cell_type": "code",
   "execution_count": null,
   "id": "91103f2f",
   "metadata": {},
   "outputs": [],
   "source": []
  },
  {
   "cell_type": "code",
   "execution_count": null,
   "id": "ed0fdbb3",
   "metadata": {},
   "outputs": [],
   "source": [
    "# 테이블에서 불러오기\n",
    "spark.sql(\"select DEST_COUNTRY_NAME from flights2011 limit 5\").show()"
   ]
  },
  {
   "cell_type": "code",
   "execution_count": null,
   "id": "1f51d765",
   "metadata": {},
   "outputs": [],
   "source": [
    "# dataframe 에서 불러오기\n",
    "from pyspark.sql.functions import col\n",
    "f2011.select(col(\"DEST_COUNTRY_NAME\")).show(5)\n"
   ]
  },
  {
   "cell_type": "code",
   "execution_count": null,
   "id": "bf078319",
   "metadata": {},
   "outputs": [],
   "source": []
  },
  {
   "cell_type": "code",
   "execution_count": null,
   "id": "163ac492",
   "metadata": {},
   "outputs": [],
   "source": [
    "# 테이블에서 불러오기\n",
    "spark.sql(\"SELECT DEST_COUNTRY_NAME as destination  FROM flights2011\").show(5)"
   ]
  },
  {
   "cell_type": "code",
   "execution_count": null,
   "id": "dd75408d",
   "metadata": {},
   "outputs": [],
   "source": [
    "# 데이터 프레임에서 불러오기\n",
    "from pyspark.sql.functions import expr\n",
    "f2011.select(expr(\"DEST_COUNTRY_NAME AS destination\")).show(5)\n",
    "f2011.select(col(\"DEST_COUNTRY_NAME\").alias(\"destination\")).s+how(5)\n",
    "f2011.select(expr(\"DEST_COUNTRY_NAME\").alias(\"destination\")).show(5)\n"
   ]
  },
  {
   "cell_type": "code",
   "execution_count": null,
   "id": "69b4bc04",
   "metadata": {},
   "outputs": [],
   "source": [
    "# selectExpr = select + expr\n",
    "f2011.selectExpr(\"DEST_COUNTRY_NAME as destination\").show(5)"
   ]
  },
  {
   "cell_type": "code",
   "execution_count": null,
   "id": "2574cfed",
   "metadata": {},
   "outputs": [],
   "source": []
  },
  {
   "cell_type": "code",
   "execution_count": null,
   "id": "4f4b14a0",
   "metadata": {},
   "outputs": [],
   "source": [
    "# 조건걸어보기!!"
   ]
  },
  {
   "cell_type": "code",
   "execution_count": null,
   "id": "26851b13",
   "metadata": {},
   "outputs": [],
   "source": [
    "# 테이블에서 불러오기\n",
    "spark.sql(\"SELECT *, (DEST_COUNTRY_NAME = ORIGIN_COUNTRY_NAME) as DOMESTIC_FLIGHT FROM flights2011\").show()"
   ]
  },
  {
   "cell_type": "code",
   "execution_count": null,
   "id": "1326972a",
   "metadata": {},
   "outputs": [],
   "source": [
    "# 데이터프레임에서 불러오기\n",
    "f2011.selectExpr(\"*\", \"(DEST_COUNTRY_NAME = ORIGIN_COUNTRY_NAME) as DOMESTIC_FLIGHT\").show(100)"
   ]
  },
  {
   "cell_type": "code",
   "execution_count": null,
   "id": "fb73a3aa",
   "metadata": {},
   "outputs": [],
   "source": []
  },
  {
   "cell_type": "code",
   "execution_count": null,
   "id": "bb29dd1e",
   "metadata": {},
   "outputs": [],
   "source": [
    "#테이블에서 불러오기\n",
    "spark.sql(\"SELECT AVG(count), COUNT(DISTINCT(DEST_COUNTRY_NAME)) FROM flights2011\").show()"
   ]
  },
  {
   "cell_type": "code",
   "execution_count": null,
   "id": "fbb47967",
   "metadata": {},
   "outputs": [],
   "source": [
    "# 데이터프레임에서 불러오기\n",
    "f2011.selectExpr(\"avg(count)\", \"count(distinct(DEST_COUNTRY_NAME))\").show()\n"
   ]
  },
  {
   "cell_type": "code",
   "execution_count": null,
   "id": "9780ed19",
   "metadata": {},
   "outputs": [],
   "source": []
  },
  {
   "cell_type": "code",
   "execution_count": null,
   "id": "747873b9",
   "metadata": {},
   "outputs": [],
   "source": [
    "# lit = literal (값)\n",
    "# 모든 행에 1이라는 값을 넣어주기!!"
   ]
  },
  {
   "cell_type": "code",
   "execution_count": null,
   "id": "5e6bb2d7",
   "metadata": {},
   "outputs": [],
   "source": [
    "\n",
    "#테이블에서 불러오기\n",
    "spark.sql(\"SELECT *, 1 as one FROM flights2011\").show(100)"
   ]
  },
  {
   "cell_type": "code",
   "execution_count": null,
   "id": "75bb5af6",
   "metadata": {},
   "outputs": [],
   "source": [
    "# 데이터 프레임에서 불러오기\n",
    "from pyspark.sql.functions import lit\n",
    "f2011.select(expr(\"*\"), lit(1).alias(\"one\")).show(100)"
   ]
  },
  {
   "cell_type": "code",
   "execution_count": null,
   "id": "0a666ae5",
   "metadata": {},
   "outputs": [],
   "source": [
    "#응용한다면 이런식도 됨\n",
    "from pyspark.sql import SparkSession\n",
    "from pyspark.sql.functions import col, lit\n",
    "import datetime\n",
    "f2011.select(expr(\"*\"),lit(datetime.datetime.now().strftime('%Y%m%d'))).show(100)\n",
    "f2011.select(expr(\"*\"),lit(datetime.datetime.now().strftime('%Y%m%d')).alias('load_dt')).show(100)"
   ]
  },
  {
   "cell_type": "code",
   "execution_count": null,
   "id": "cac597e4",
   "metadata": {},
   "outputs": [],
   "source": []
  },
  {
   "cell_type": "code",
   "execution_count": null,
   "id": "5f432361",
   "metadata": {},
   "outputs": [],
   "source": [
    "\n",
    "# withColumn(\"컬럼명\", \"표현식\")\n",
    "# 컬럼을 추가할껀데 어떤 표현식을 가지는 컬럼명을 추가한다."
   ]
  },
  {
   "cell_type": "code",
   "execution_count": null,
   "id": "19bf251e",
   "metadata": {},
   "outputs": [],
   "source": [
    "#테이블에서 불러오기\n",
    "spark.sql(\"SELECT *, (DEST_COUNTRY_NAME = ORIGIN_COUNTRY_NAME) AS DOMESTIC_FLIGHT FROM flights2011\").show()"
   ]
  },
  {
   "cell_type": "code",
   "execution_count": null,
   "id": "41457533",
   "metadata": {},
   "outputs": [],
   "source": [
    "\n",
    "# 데이터 프레임에서 불러오기\n",
    "f2011.withColumn(\"DOMESTIC_FLIGHT\", expr(\"DEST_COUNTRY_NAME = ORIGIN_COUNTRY_NAME\")).show()"
   ]
  },
  {
   "cell_type": "code",
   "execution_count": null,
   "id": "ecfbca7c",
   "metadata": {},
   "outputs": [],
   "source": []
  },
  {
   "cell_type": "code",
   "execution_count": null,
   "id": "f46eb197",
   "metadata": {},
   "outputs": [],
   "source": [
    "# withColumnRenamed\n",
    "# 원본 컬럼이름을 바꿀 컬럼이름으로 바꿔주겠다.즉 이름만 바꾼다."
   ]
  },
  {
   "cell_type": "code",
   "execution_count": null,
   "id": "b64a4cba",
   "metadata": {},
   "outputs": [],
   "source": [
    "#  테이블에서 불러오기\n",
    "spark.sql(\"select DEST_COUNTRY_NAME as DESTINATION, ORIGIN_COUNTRY_NAME,count  from flights2011\").show(5)\n"
   ]
  },
  {
   "cell_type": "code",
   "execution_count": null,
   "id": "1ae70ed0",
   "metadata": {},
   "outputs": [],
   "source": [
    "# 데이터 프레임에서 불러오기\n",
    "f2011.withColumnRenamed(\"DEST_COUNTRY_NAME\", \"DESTINATION\").show(5)"
   ]
  },
  {
   "cell_type": "code",
   "execution_count": null,
   "id": "83b3f9c0",
   "metadata": {},
   "outputs": [],
   "source": [
    "withColumn, withColumnRenamed  둘다 원본반영안됨!.따라서 새로운 변수를 만들어줘야 한다."
   ]
  },
  {
   "cell_type": "code",
   "execution_count": null,
   "id": "3f87937e",
   "metadata": {},
   "outputs": [],
   "source": []
  },
  {
   "cell_type": "code",
   "execution_count": null,
   "id": "7f3812ec",
   "metadata": {},
   "outputs": [],
   "source": [
    "# 컬럼 확인용\n",
    "f2011.columns"
   ]
  },
  {
   "cell_type": "code",
   "execution_count": null,
   "id": "b76a1fb8",
   "metadata": {},
   "outputs": [],
   "source": [
    "# 테이블에서 가져오기\n",
    "spark.sql(\"SELECT * FROM flights2011 WHERE count < 2\").show(5)"
   ]
  },
  {
   "cell_type": "code",
   "execution_count": null,
   "id": "bdbeac87",
   "metadata": {},
   "outputs": [],
   "source": [
    "# 데이터 프레임에서 가져오기\n",
    "f2011.filter(col(\"count\") < 2).show(5)\n",
    "f2011.where(\"count < 2\").show(5)"
   ]
  },
  {
   "cell_type": "code",
   "execution_count": null,
   "id": "0a156df0",
   "metadata": {},
   "outputs": [],
   "source": []
  },
  {
   "cell_type": "code",
   "execution_count": null,
   "id": "facb3875",
   "metadata": {},
   "outputs": [],
   "source": [
    "\n",
    "#테이블에서 불러오기\n",
    "spark.sql(\"SELECT * FROM flights2011 WHERE count < 2 AND ORIGIN_COUNTRY_NAME != 'Croatia'\").show(5)"
   ]
  },
  {
   "cell_type": "code",
   "execution_count": null,
   "id": "28eac747",
   "metadata": {},
   "outputs": [],
   "source": [
    "# 데이터 프레임에서 불러오기\n",
    "f2011.where(\"count < 2\").where(col(\"ORIGIN_COUNTRY_NAME\") != \"Croatia\"). show(5)\n"
   ]
  },
  {
   "cell_type": "code",
   "execution_count": null,
   "id": "88226478",
   "metadata": {},
   "outputs": [],
   "source": [
    "#  where 여러개 조건 연결 -> 스파크에서는 조건이 여러개 연결되면 하나하나 순서대로 실행된다가 아니라 동시에 모든 조건 실행(병렬실행)-->즉 동시에 모든 조건 실행한다. => 특정 상황에서 원하지 않는 결과가 도출 될 수 있다!!!"
   ]
  },
  {
   "cell_type": "code",
   "execution_count": null,
   "id": "c6045039",
   "metadata": {},
   "outputs": [],
   "source": [
    "# 다른결과가 나온다.위에꺼와 같게하려면 어찌해야될까..\n",
    "f2011.where((\"count < 2\") and (col(\"ORIGIN_COUNTRY_NAME\") != \"Croatia\")). show(5)"
   ]
  },
  {
   "cell_type": "code",
   "execution_count": null,
   "id": "3b78046b",
   "metadata": {},
   "outputs": [],
   "source": []
  },
  {
   "cell_type": "code",
   "execution_count": null,
   "id": "d7ee71a9",
   "metadata": {},
   "outputs": [],
   "source": [
    "#테이블에서 가져오기\n",
    "spark.sql(\"\"\"SELECT COUNT(DISTINCT(ORIGIN_COUNTRY_NAME, DEST_COUNTRY_NAME)) AS count FROM flights2011\"\"\").show(5)\n",
    "파이썬에서는 \"\"\" \"\"\" 는 줄바꿈하더라도 연속적인코드임을 알수있게끔할떄.이꺼쓰기 싫으면 걍 아래같이 쭉 한줄로 써야할꺼다. \n",
    "spark.sql(\"SELECT COUNT(DISTINCT(ORIGIN_COUNTRY_NAME, DEST_COUNTRY_NAME)) AS count FROM flights2011\").show()"
   ]
  },
  {
   "cell_type": "code",
   "execution_count": null,
   "id": "7f3a6126",
   "metadata": {},
   "outputs": [],
   "source": [
    "# 데이터프레임에서 가져오기\n",
    "f2011.select(\"ORIGIN_COUNTRY_NAME\", \"DEST_COUNTRY_NAME\").distinct().count()\n",
    "# count해서 show()는 에러남.."
   ]
  },
  {
   "cell_type": "code",
   "execution_count": null,
   "id": "c18ce8dd",
   "metadata": {},
   "outputs": [],
   "source": []
  },
  {
   "cell_type": "code",
   "execution_count": null,
   "id": "85d7f810",
   "metadata": {},
   "outputs": [],
   "source": [
    "\n",
    "# row함수\n",
    "from pyspark.sql import Row\n",
    "# 새로운 스키마 생성\n",
    "schema = f2011.schema\n",
    "#새로운 테이블생성\n",
    "new_rows = [\n",
    "\tRow(\"Korea\", \"Korea\", 5),\n",
    "\tRow(\"Korea\", \"Australia\", 1)\n",
    "]\n",
    "\n",
    "# 테이블가져오기\n",
    "paralle_rows = sc.parallelize(new_rows)\n",
    "# 데이터 프레임만들기\n",
    "new_df = spark.createDataFrame(paralle_rows, schema)\n",
    "\n",
    "f2011.union(new_df).show(10000)"
   ]
  }
 ],
 "metadata": {
  "kernelspec": {
   "display_name": "Python 3",
   "language": "python",
   "name": "python3"
  },
  "language_info": {
   "codemirror_mode": {
    "name": "ipython",
    "version": 3
   },
   "file_extension": ".py",
   "mimetype": "text/x-python",
   "name": "python",
   "nbconvert_exporter": "python",
   "pygments_lexer": "ipython3",
   "version": "3.8.8"
  }
 },
 "nbformat": 4,
 "nbformat_minor": 5
}
